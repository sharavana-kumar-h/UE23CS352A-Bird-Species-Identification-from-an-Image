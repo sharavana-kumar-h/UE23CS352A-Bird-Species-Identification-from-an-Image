{
  "nbformat": 4,
  "nbformat_minor": 0,
  "metadata": {
    "colab": {
      "provenance": [],
      "gpuType": "T4"
    },
    "kernelspec": {
      "name": "python3",
      "display_name": "Python 3"
    },
    "language_info": {
      "name": "python"
    },
    "accelerator": "GPU"
  },
  "cells": [
    {
      "cell_type": "code",
      "source": [
        "import os\n",
        "import tarfile\n",
        "import numpy as np\n",
        "import pandas as pd\n",
        "from PIL import Image\n",
        "from tqdm import tqdm\n",
        "import matplotlib.pyplot as plt\n",
        "\n",
        "# pytorch\n",
        "import torch\n",
        "import torch.nn as nn\n",
        "import torch.optim as optim\n",
        "from torch.utils.data import DataLoader, Dataset\n",
        "from torchvision import transforms, models\n",
        "\n",
        "# scikit learn\n",
        "from sklearn.metrics import accuracy_score\n",
        "\n",
        "# ml models\n",
        "from sklearn.naive_bayes import GaussianNB\n",
        "from sklearn.svm import SVC\n",
        "from sklearn.neighbors import KNeighborsClassifier\n",
        "from sklearn.discriminant_analysis import LinearDiscriminantAnalysis\n",
        "from sklearn.tree import DecisionTreeClassifier\n",
        "from sklearn.ensemble import RandomForestClassifier\n",
        "from sklearn.linear_model import LogisticRegression"
      ],
      "metadata": {
        "id": "63Z-m78Z0ZUd"
      },
      "execution_count": 1,
      "outputs": []
    },
    {
      "cell_type": "code",
      "source": [
        "print(\"Step 1: Setting up configuration...\")\n",
        "\n",
        "CUB_TGZ_PATH = '/content/drive/MyDrive/dataset ML/CUB_200_2011.tgz'\n",
        "\n",
        "from google.colab import drive\n",
        "drive.mount('/content/drive')\n",
        "print(f\"Extracting dataset from {CUB_TGZ_PATH}...\")\n",
        "with tarfile.open(CUB_TGZ_PATH, \"r:gz\") as tar_ref:\n",
        "    tar_ref.extractall(path='/content')\n",
        "\n",
        "CUB_DIR = '/content/CUB_200_2011/'\n",
        "IMAGE_DIR = os.path.join(CUB_DIR, 'images')\n",
        "print(f\"Dataset extracted. Main directory set to: {CUB_DIR}\")\n",
        "\n",
        "DEVICE = torch.device(\"cuda\" if torch.cuda.is_available() else \"cpu\")\n",
        "print(f\"Using device: {DEVICE}\")\n",
        "\n",
        "IMG_SIZE = 224\n",
        "BATCH_SIZE = 32\n",
        "NUM_EPOCHS_CNN = 10\n",
        "RANDOM_STATE = 42"
      ],
      "metadata": {
        "colab": {
          "base_uri": "https://localhost:8080/"
        },
        "id": "58bisWYJ7GMC",
        "outputId": "2e0eae07-5d59-4979-80e1-e0bfbd8344d8"
      },
      "execution_count": 2,
      "outputs": [
        {
          "output_type": "stream",
          "name": "stdout",
          "text": [
            "Step 1: Setting up configuration...\n",
            "Mounted at /content/drive\n",
            "Extracting dataset from /content/drive/MyDrive/dataset ML/CUB_200_2011.tgz...\n"
          ]
        },
        {
          "output_type": "stream",
          "name": "stderr",
          "text": [
            "/tmp/ipython-input-316555349.py:9: DeprecationWarning: Python 3.14 will, by default, filter extracted tar archives and reject files or modify their metadata. Use the filter argument to control this behavior.\n",
            "  tar_ref.extractall(path='/content')\n"
          ]
        },
        {
          "output_type": "stream",
          "name": "stdout",
          "text": [
            "Dataset extracted. Main directory set to: /content/CUB_200_2011/\n",
            "Using device: cuda\n"
          ]
        }
      ]
    },
    {
      "cell_type": "markdown",
      "source": [
        "Data Preparation"
      ],
      "metadata": {
        "id": "IGY7u1HhNVcd"
      }
    },
    {
      "cell_type": "code",
      "source": [
        "print(\"\\n Step 2: Preparing data using official dataset files...\")\n",
        "\n",
        "images_df = pd.read_csv(os.path.join(CUB_DIR, 'images.txt'), sep=' ', names=['img_id', 'filepath'])\n",
        "labels_df = pd.read_csv(os.path.join(CUB_DIR, 'image_class_labels.txt'), sep=' ', names=['img_id', 'class_id'])\n",
        "split_df = pd.read_csv(os.path.join(CUB_DIR, 'train_test_split.txt'), sep=' ', names=['img_id', 'is_training_img'])\n",
        "\n",
        "data_df = images_df.merge(labels_df, on='img_id').merge(split_df, on='img_id')\n",
        "data_df['class_id'] = data_df['class_id'] - 1\n",
        "\n",
        "train_df = data_df[data_df['is_training_img'] == 1]\n",
        "test_df = data_df[data_df['is_training_img'] == 0]\n",
        "\n",
        "X_train_paths = [os.path.join(IMAGE_DIR, fp) for fp in train_df['filepath']]\n",
        "X_test_paths = [os.path.join(IMAGE_DIR, fp) for fp in test_df['filepath']]\n",
        "y_train = train_df['class_id'].values\n",
        "y_test = test_df['class_id'].values\n",
        "\n",
        "num_classes = len(data_df['class_id'].unique())\n",
        "print(f\"Found {len(data_df)} total images belonging to {num_classes} classes.\")\n",
        "print(f\"Using official split: {len(X_train_paths)} training samples, {len(X_test_paths)} testing samples.\")\n",
        "\n",
        "class BirdDataset(Dataset):\n",
        "    def __init__(self, image_paths, labels, transform=None):\n",
        "        self.image_paths = image_paths\n",
        "        self.labels = labels\n",
        "        self.transform = transform\n",
        "\n",
        "    def __len__(self):\n",
        "        return len(self.image_paths)\n",
        "\n",
        "    def __getitem__(self, idx):\n",
        "        img_path = self.image_paths[idx]\n",
        "        image = Image.open(img_path).convert(\"RGB\")\n",
        "        label = self.labels[idx]\n",
        "        if self.transform:\n",
        "            image = self.transform(image)\n",
        "        return image, label\n",
        "\n",
        "# normalization\n",
        "data_transforms = {\n",
        "    'train': transforms.Compose([\n",
        "        transforms.RandomResizedCrop(IMG_SIZE),\n",
        "        transforms.RandomHorizontalFlip(),\n",
        "        transforms.ToTensor(),\n",
        "        transforms.Normalize([0.485, 0.456, 0.406], [0.229, 0.224, 0.225])\n",
        "    ]),\n",
        "    'test': transforms.Compose([\n",
        "        transforms.Resize(256),\n",
        "        transforms.CenterCrop(IMG_SIZE),\n",
        "        transforms.ToTensor(),\n",
        "        transforms.Normalize([0.485, 0.456, 0.406], [0.229, 0.224, 0.225])\n",
        "    ]),\n",
        "}\n",
        "\n"
      ],
      "metadata": {
        "id": "E_IIHndL7Je8",
        "colab": {
          "base_uri": "https://localhost:8080/"
        },
        "outputId": "7c5863cd-4758-4c0b-d9fb-9ee27bd494a4"
      },
      "execution_count": 3,
      "outputs": [
        {
          "output_type": "stream",
          "name": "stdout",
          "text": [
            "\n",
            " Step 2: Preparing data using official dataset files...\n",
            "Found 11788 total images belonging to 200 classes.\n",
            "Using official split: 5994 training samples, 5794 testing samples.\n"
          ]
        }
      ]
    },
    {
      "cell_type": "markdown",
      "source": [
        "Feature Extraction"
      ],
      "metadata": {
        "id": "DdXw89IyNefz"
      }
    },
    {
      "cell_type": "code",
      "source": [
        "feature_extractor = models.resnet50(weights=models.ResNet50_Weights.IMAGENET1K_V1)\n",
        "feature_extractor.fc = nn.Identity()\n",
        "feature_extractor = feature_extractor.to(DEVICE)\n",
        "feature_extractor.eval()\n",
        "\n",
        "def extract_features(dataset_paths, transform):\n",
        "    dataset = BirdDataset(dataset_paths, labels=np.zeros(len(dataset_paths)), transform=transform)\n",
        "    loader = DataLoader(dataset, batch_size=BATCH_SIZE, shuffle=False)\n",
        "    all_features = []\n",
        "    with torch.no_grad():\n",
        "        for inputs, _ in tqdm(loader, desc=\"Extracting Features\"):\n",
        "            inputs = inputs.to(DEVICE)\n",
        "            features = feature_extractor(inputs)\n",
        "            all_features.append(features.cpu().numpy())\n",
        "    return np.concatenate(all_features)\n",
        "\n",
        "X_train_features = extract_features(X_train_paths, data_transforms['test'])\n",
        "X_test_features = extract_features(X_test_paths, data_transforms['test'])\n",
        "\n",
        "print(f\"Shape of training features: {X_train_features.shape}\")\n",
        "print(f\"Shape of testing features: {X_test_features.shape}\")"
      ],
      "metadata": {
        "id": "jrYFMy_U7MaI",
        "colab": {
          "base_uri": "https://localhost:8080/"
        },
        "outputId": "9119403c-b955-46b4-a234-ff671a524dcc"
      },
      "execution_count": 4,
      "outputs": [
        {
          "output_type": "stream",
          "name": "stdout",
          "text": [
            "Downloading: \"https://download.pytorch.org/models/resnet50-0676ba61.pth\" to /root/.cache/torch/hub/checkpoints/resnet50-0676ba61.pth\n"
          ]
        },
        {
          "output_type": "stream",
          "name": "stderr",
          "text": [
            "100%|██████████| 97.8M/97.8M [00:00<00:00, 117MB/s]\n",
            "Extracting Features: 100%|██████████| 188/188 [00:53<00:00,  3.49it/s]\n",
            "Extracting Features: 100%|██████████| 182/182 [00:51<00:00,  3.56it/s]"
          ]
        },
        {
          "output_type": "stream",
          "name": "stdout",
          "text": [
            "Shape of training features: (5994, 2048)\n",
            "Shape of testing features: (5794, 2048)\n"
          ]
        },
        {
          "output_type": "stream",
          "name": "stderr",
          "text": [
            "\n"
          ]
        }
      ]
    },
    {
      "cell_type": "markdown",
      "source": [
        "7 model implementation"
      ],
      "metadata": {
        "id": "G3d_oufUNk0Q"
      }
    },
    {
      "cell_type": "code",
      "source": [
        "models_to_train = {\n",
        "    \"1. Naive Bayes\": GaussianNB(),\n",
        "    \"2. K-Nearest Neighbors (KNN)\": KNeighborsClassifier(n_neighbors=5),\n",
        "    \"3. Decision Tree\": DecisionTreeClassifier(random_state=RANDOM_STATE),\n",
        "    \"4. Random Forest\": RandomForestClassifier(n_estimators=100, random_state=RANDOM_STATE),\n",
        "    \"5. Linear Discriminant Analysis (LDA)\": LinearDiscriminantAnalysis(),\n",
        "    \"6. Support Vector Machine (SVM)\": SVC(kernel='rbf', random_state=RANDOM_STATE),\n",
        "    \"7. Logistic Regression (One-vs-Rest)\": LogisticRegression(multi_class='ovr', solver='liblinear', random_state=RANDOM_STATE, max_iter=1000)\n",
        "}\n",
        "results = {}\n",
        "\n",
        "for name, model in models_to_train.items():\n",
        "    print(f\"--- Training {name} ---\")\n",
        "    model.fit(X_train_features, y_train)\n",
        "    y_pred = model.predict(X_test_features)\n",
        "    accuracy = accuracy_score(y_test, y_pred)\n",
        "    results[name] = accuracy\n",
        "    print(f\"Testing Accuracy for {name}: {accuracy:.4f}\")\n",
        "\n"
      ],
      "metadata": {
        "id": "49NKyl8s7OY1",
        "colab": {
          "base_uri": "https://localhost:8080/"
        },
        "outputId": "741cb9c5-a496-4766-c5a2-a65bd08551fb"
      },
      "execution_count": 5,
      "outputs": [
        {
          "output_type": "stream",
          "name": "stdout",
          "text": [
            "--- Training 1. Naive Bayes ---\n",
            "Testing Accuracy for 1. Naive Bayes: 0.6151\n",
            "--- Training 2. K-Nearest Neighbors (KNN) ---\n",
            "Testing Accuracy for 2. K-Nearest Neighbors (KNN): 0.4922\n",
            "--- Training 3. Decision Tree ---\n",
            "Testing Accuracy for 3. Decision Tree: 0.1961\n",
            "--- Training 4. Random Forest ---\n",
            "Testing Accuracy for 4. Random Forest: 0.5204\n",
            "--- Training 5. Linear Discriminant Analysis (LDA) ---\n",
            "Testing Accuracy for 5. Linear Discriminant Analysis (LDA): 0.6969\n",
            "--- Training 6. Support Vector Machine (SVM) ---\n",
            "Testing Accuracy for 6. Support Vector Machine (SVM): 0.6628\n",
            "--- Training 7. Logistic Regression (One-vs-Rest) ---\n"
          ]
        },
        {
          "output_type": "stream",
          "name": "stderr",
          "text": [
            "/usr/local/lib/python3.12/dist-packages/sklearn/linear_model/_logistic.py:1256: FutureWarning: 'multi_class' was deprecated in version 1.5 and will be removed in 1.7. Use OneVsRestClassifier(LogisticRegression(..)) instead. Leave it to its default value to avoid this warning.\n",
            "  warnings.warn(\n"
          ]
        },
        {
          "output_type": "stream",
          "name": "stdout",
          "text": [
            "Testing Accuracy for 7. Logistic Regression (One-vs-Rest): 0.6631\n"
          ]
        }
      ]
    },
    {
      "cell_type": "code",
      "source": [
        "cnn_model = models.efficientnet_b0(weights=models.EfficientNet_B0_Weights.IMAGENET1K_V1)\n",
        "num_ftrs = cnn_model.classifier[1].in_features\n",
        "cnn_model.classifier[1] = nn.Linear(num_ftrs, num_classes)\n",
        "cnn_model = cnn_model.to(DEVICE)\n",
        "\n",
        "optimizer = optim.AdamW(cnn_model.parameters(), lr=1e-4)\n",
        "criterion = nn.CrossEntropyLoss()\n",
        "\n",
        "train_dataset = BirdDataset(X_train_paths, y_train, transform=data_transforms['train'])\n",
        "test_dataset = BirdDataset(X_test_paths, y_test, transform=data_transforms['test'])\n",
        "\n",
        "train_loader = DataLoader(train_dataset, batch_size=BATCH_SIZE, shuffle=True)\n",
        "test_loader = DataLoader(test_dataset, batch_size=BATCH_SIZE, shuffle=False)\n",
        "\n",
        "NUM_EPOCHS_CNN = 12\n",
        "\n",
        "for epoch in range(NUM_EPOCHS_CNN):\n",
        "    cnn_model.train() # training mode\n",
        "    running_loss = 0.0\n",
        "\n",
        "    for inputs, labels_batch in tqdm(train_loader, desc=f\"Epoch {epoch+1}/{NUM_EPOCHS_CNN}\"):\n",
        "        inputs, labels_batch = inputs.to(DEVICE), labels_batch.to(DEVICE)\n",
        "\n",
        "        optimizer.zero_grad()\n",
        "        outputs = cnn_model(inputs)\n",
        "        loss = criterion(outputs, labels_batch)\n",
        "        loss.backward()\n",
        "        optimizer.step()\n",
        "\n",
        "        running_loss += loss.item() * inputs.size(0)\n",
        "\n",
        "    epoch_loss = running_loss / len(train_loader.dataset)\n",
        "    print(f\"Epoch {epoch+1} Loss: {epoch_loss:.4f}\")\n",
        "\n",
        "print(\"\\nTraining complete.\")\n",
        "\n",
        "print(\"Evaluating the final model on the test set...\")\n",
        "cnn_model.eval() # evaluation mode\n",
        "all_preds, all_labels = [], []\n",
        "with torch.no_grad():\n",
        "    for inputs, labels_batch in tqdm(test_loader, desc=\"Testing Phase\"):\n",
        "        inputs, labels_batch = inputs.to(DEVICE), labels_batch.to(DEVICE)\n",
        "        outputs = cnn_model(inputs)\n",
        "        _, preds = torch.max(outputs, 1)\n",
        "        all_preds.extend(preds.cpu().numpy())\n",
        "        all_labels.extend(labels_batch.cpu().numpy())\n",
        "\n",
        "cnn_accuracy = accuracy_score(all_labels, all_preds)\n",
        "\n",
        "results[\"8. Simplified CNN (EfficientNet)\"] = cnn_accuracy\n",
        "print(f\"Final Testing Accuracy for Simplified CNN: {cnn_accuracy:.4f}\")"
      ],
      "metadata": {
        "id": "NQXtubVr7PwO",
        "colab": {
          "base_uri": "https://localhost:8080/"
        },
        "outputId": "87af1b48-8528-45fb-d2b0-74f86ff312bd"
      },
      "execution_count": 6,
      "outputs": [
        {
          "metadata": {
            "tags": null
          },
          "name": "stdout",
          "output_type": "stream",
          "text": [
            "\n",
            "✅ Step 5 (Simplified): Training and Evaluating the CNN...\n",
            "Downloading: \"https://download.pytorch.org/models/efficientnet_b0_rwightman-7f5810bc.pth\" to /root/.cache/torch/hub/checkpoints/efficientnet_b0_rwightman-7f5810bc.pth\n"
          ]
        },
        {
          "metadata": {
            "tags": null
          },
          "name": "stderr",
          "output_type": "stream",
          "text": [
            "100%|██████████| 20.5M/20.5M [00:00<00:00, 168MB/s]\n",
            "Epoch 1/12: 100%|██████████| 188/188 [01:00<00:00,  3.13it/s]\n"
          ]
        },
        {
          "metadata": {
            "tags": null
          },
          "name": "stdout",
          "output_type": "stream",
          "text": [
            "Epoch 1 Loss: 5.0617\n"
          ]
        },
        {
          "metadata": {
            "tags": null
          },
          "name": "stderr",
          "output_type": "stream",
          "text": [
            "Epoch 2/12: 100%|██████████| 188/188 [00:59<00:00,  3.17it/s]\n"
          ]
        },
        {
          "metadata": {
            "tags": null
          },
          "name": "stdout",
          "output_type": "stream",
          "text": [
            "Epoch 2 Loss: 3.8734\n"
          ]
        },
        {
          "metadata": {
            "tags": null
          },
          "name": "stderr",
          "output_type": "stream",
          "text": [
            "Epoch 3/12: 100%|██████████| 188/188 [00:58<00:00,  3.21it/s]\n"
          ]
        },
        {
          "metadata": {
            "tags": null
          },
          "name": "stdout",
          "output_type": "stream",
          "text": [
            "Epoch 3 Loss: 2.9134\n"
          ]
        },
        {
          "metadata": {
            "tags": null
          },
          "name": "stderr",
          "output_type": "stream",
          "text": [
            "Epoch 4/12: 100%|██████████| 188/188 [00:59<00:00,  3.17it/s]\n"
          ]
        },
        {
          "metadata": {
            "tags": null
          },
          "name": "stdout",
          "output_type": "stream",
          "text": [
            "Epoch 4 Loss: 2.3228\n"
          ]
        },
        {
          "metadata": {
            "tags": null
          },
          "name": "stderr",
          "output_type": "stream",
          "text": [
            "Epoch 5/12: 100%|██████████| 188/188 [00:59<00:00,  3.16it/s]\n"
          ]
        },
        {
          "metadata": {
            "tags": null
          },
          "name": "stdout",
          "output_type": "stream",
          "text": [
            "Epoch 5 Loss: 1.9330\n"
          ]
        },
        {
          "metadata": {
            "tags": null
          },
          "name": "stderr",
          "output_type": "stream",
          "text": [
            "Epoch 6/12: 100%|██████████| 188/188 [00:58<00:00,  3.21it/s]\n"
          ]
        },
        {
          "metadata": {
            "tags": null
          },
          "name": "stdout",
          "output_type": "stream",
          "text": [
            "Epoch 6 Loss: 1.6985\n"
          ]
        },
        {
          "output_type": "stream",
          "name": "stderr",
          "text": [
            "Epoch 7/12: 100%|██████████| 188/188 [00:59<00:00,  3.17it/s]\n"
          ]
        },
        {
          "output_type": "stream",
          "name": "stdout",
          "text": [
            "Epoch 7 Loss: 1.4614\n"
          ]
        },
        {
          "output_type": "stream",
          "name": "stderr",
          "text": [
            "Epoch 8/12: 100%|██████████| 188/188 [00:58<00:00,  3.21it/s]\n"
          ]
        },
        {
          "output_type": "stream",
          "name": "stdout",
          "text": [
            "Epoch 8 Loss: 1.3417\n"
          ]
        },
        {
          "output_type": "stream",
          "name": "stderr",
          "text": [
            "Epoch 9/12: 100%|██████████| 188/188 [00:58<00:00,  3.20it/s]\n"
          ]
        },
        {
          "output_type": "stream",
          "name": "stdout",
          "text": [
            "Epoch 9 Loss: 1.2175\n"
          ]
        },
        {
          "output_type": "stream",
          "name": "stderr",
          "text": [
            "Epoch 10/12: 100%|██████████| 188/188 [00:58<00:00,  3.20it/s]\n"
          ]
        },
        {
          "output_type": "stream",
          "name": "stdout",
          "text": [
            "Epoch 10 Loss: 1.1310\n"
          ]
        },
        {
          "output_type": "stream",
          "name": "stderr",
          "text": [
            "Epoch 11/12: 100%|██████████| 188/188 [00:58<00:00,  3.20it/s]\n"
          ]
        },
        {
          "output_type": "stream",
          "name": "stdout",
          "text": [
            "Epoch 11 Loss: 1.0523\n"
          ]
        },
        {
          "output_type": "stream",
          "name": "stderr",
          "text": [
            "Epoch 12/12: 100%|██████████| 188/188 [00:58<00:00,  3.23it/s]\n"
          ]
        },
        {
          "output_type": "stream",
          "name": "stdout",
          "text": [
            "Epoch 12 Loss: 0.9923\n",
            "\n",
            "Training complete.\n",
            "Evaluating the final model on the test set...\n"
          ]
        },
        {
          "output_type": "stream",
          "name": "stderr",
          "text": [
            "Testing Phase: 100%|██████████| 182/182 [00:43<00:00,  4.14it/s]"
          ]
        },
        {
          "output_type": "stream",
          "name": "stdout",
          "text": [
            "Final Testing Accuracy for Simplified CNN: 0.7891\n"
          ]
        },
        {
          "output_type": "stream",
          "name": "stderr",
          "text": [
            "\n"
          ]
        }
      ]
    },
    {
      "cell_type": "code",
      "source": [
        "print(\"\\n\\n====================================\")\n",
        "print(\"      FINAL MODEL ACCURACIES      \")\n",
        "print(\"====================================\\n\")\n",
        "\n",
        "results_df = pd.DataFrame(list(results.items()), columns=['Model', 'Testing Accuracy'])\n",
        "results_df = results_df.sort_values(by='Testing Accuracy', ascending=False)\n",
        "print(results_df.to_string(index=False))\n",
        "\n",
        "plt.figure(figsize=(12, 8))\n",
        "bars = plt.barh(results_df['Model'], results_df['Testing Accuracy'], color='mediumpurple')\n",
        "plt.xlabel('Testing Accuracy')\n",
        "plt.title('Comparison of Model Performance on CUB-200-2011 (Simplified CNN)')\n",
        "plt.xlim(0, 1)\n",
        "plt.gca().invert_yaxis()\n",
        "for bar in bars:\n",
        "    plt.text(bar.get_width(), bar.get_y() + bar.get_height()/2,\n",
        "             f' {bar.get_width():.2%}', va='center', ha='left')\n",
        "plt.tight_layout()\n",
        "plt.show()"
      ],
      "metadata": {
        "id": "Yxp18rNQ7RNA",
        "colab": {
          "base_uri": "https://localhost:8080/",
          "height": 1000
        },
        "outputId": "c0aa176d-7e87-422b-b27f-d5b24fcad91e"
      },
      "execution_count": 7,
      "outputs": [
        {
          "output_type": "stream",
          "name": "stdout",
          "text": [
            "\n",
            "\n",
            "====================================\n",
            "      FINAL MODEL ACCURACIES      \n",
            "====================================\n",
            "\n",
            "                                Model  Testing Accuracy\n",
            "     8. Simplified CNN (EfficientNet)          0.789092\n",
            "5. Linear Discriminant Analysis (LDA)          0.696928\n",
            " 7. Logistic Regression (One-vs-Rest)          0.663100\n",
            "      6. Support Vector Machine (SVM)          0.662755\n",
            "                       1. Naive Bayes          0.615119\n",
            "                     4. Random Forest          0.520366\n",
            "         2. K-Nearest Neighbors (KNN)          0.492233\n",
            "                     3. Decision Tree          0.196065\n"
          ]
        },
        {
          "output_type": "display_data",
          "data": {
            "text/plain": [
              "<Figure size 1200x800 with 1 Axes>"
            ],
            "image/png": "[encoded data removed]"
          },
          "metadata": {}
        }
      ]
    }
  ]
}