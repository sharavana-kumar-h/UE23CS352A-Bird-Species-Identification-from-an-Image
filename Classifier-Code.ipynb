{
  "nbformat": 4,
  "nbformat_minor": 0,
  "metadata": {
    "colab": {
      "provenance": [],
      "gpuType": "T4"
    },
    "kernelspec": {
      "name": "python3",
      "display_name": "Python 3"
    },
    "language_info": {
      "name": "python"
    },
    "accelerator": "GPU"
  },
  "cells": [
    {
      "cell_type": "code",
      "source": [
        "# ==============================================================================\n",
        "#\n",
        "# BIRD SPECIES IDENTIFICATION - COLAB NOTEBOOK (FOR SEPARATE ZIP FILES)\n",
        "#\n",
        "# This notebook is adapted for the standard CUB-200-2011 dataset provided\n",
        "# as two separate zip files: 'cub_200_2011.zip' and 'segments.zip'.\n",
        "#\n",
        "# ==============================================================================\n",
        "\n",
        "import os\n",
        "import tarfile\n",
        "import numpy as np\n",
        "import pandas as pd\n",
        "from PIL import Image\n",
        "from tqdm import tqdm\n",
        "import matplotlib.pyplot as plt\n",
        "\n",
        "# --- PyTorch Imports ---\n",
        "import torch\n",
        "import torch.nn as nn\n",
        "import torch.optim as optim\n",
        "from torch.utils.data import DataLoader, Dataset\n",
        "from torchvision import transforms, models\n",
        "\n",
        "# --- Scikit-learn Imports ---\n",
        "from sklearn.metrics import accuracy_score\n",
        "\n",
        "# Classical ML Models from the paper\n",
        "from sklearn.naive_bayes import GaussianNB\n",
        "from sklearn.svm import SVC\n",
        "from sklearn.neighbors import KNeighborsClassifier\n",
        "from sklearn.discriminant_analysis import LinearDiscriminantAnalysis\n",
        "from sklearn.tree import DecisionTreeClassifier\n",
        "from sklearn.ensemble import RandomForestClassifier\n",
        "from sklearn.linear_model import LogisticRegression"
      ],
      "metadata": {
        "id": "63Z-m78Z0ZUd"
      },
      "execution_count": null,
      "outputs": []
    },
    {
      "cell_type": "code",
      "source": [
        "# ==================================\n",
        "# 1. SETUP AND CONFIGURATION\n",
        "# ==================================\n",
        "print(\"✅ Step 1: Setting up configuration...\")\n",
        "\n",
        "# --- ACTION REQUIRED: UPDATE THIS FILE PATH ---\n",
        "\n",
        "# 📌 STEPS TO FIND AND UPDATE YOUR FILE PATH:\n",
        "#    1. Upload your 'CUB_200_2011.tgz' file to your Google Drive.\n",
        "#    2. In your Colab notebook, click the \"Files\" icon on the left sidebar.\n",
        "#    3. Click the \"Mount Drive\" button (looks like a folder with the Drive logo).\n",
        "#    4. Navigate through the new 'drive/MyDrive/' folder to find your uploaded .tgz file.\n",
        "#    5. Right-click on 'CUB_200_2011.tgz' and select \"Copy path\".\n",
        "#    6. Paste the copied path into the CUB_TGZ_PATH variable below, replacing the placeholder.\n",
        "\n",
        "CUB_TGZ_PATH = '/content/drive/MyDrive/dataset ML/CUB_200_2011.tgz' # <-- PASTE YOUR PATH HERE\n",
        "\n",
        "# -----------------------------------------------\n",
        "\n",
        "# Mount Google Drive\n",
        "from google.colab import drive\n",
        "drive.mount('/content/drive')\n",
        "\n",
        "# --- MODIFIED SECTION FOR .tgz EXTRACTION ---\n",
        "# Un-tar the main dataset\n",
        "print(f\"Extracting dataset from {CUB_TGZ_PATH}...\")\n",
        "# We open the file with \"r:gz\" mode, which reads a gzipped tar file.\n",
        "with tarfile.open(CUB_TGZ_PATH, \"r:gz\") as tar_ref:\n",
        "    tar_ref.extractall(path='/content')\n",
        "# --------------------------------------------\n",
        "\n",
        "# Define the base directory for the CUB dataset files\n",
        "CUB_DIR = '/content/CUB_200_2011/' # The extracted folder name\n",
        "IMAGE_DIR = os.path.join(CUB_DIR, 'images')\n",
        "print(f\"Dataset extracted. Main directory set to: {CUB_DIR}\")\n",
        "\n",
        "# --- Model and Training Parameters ---\n",
        "DEVICE = torch.device(\"cuda\" if torch.cuda.is_available() else \"cpu\")\n",
        "print(f\"Using device: {DEVICE}\")\n",
        "\n",
        "IMG_SIZE = 224\n",
        "BATCH_SIZE = 32\n",
        "NUM_EPOCHS_CNN = 10\n",
        "RANDOM_STATE = 42"
      ],
      "metadata": {
        "colab": {
          "base_uri": "https://localhost:8080/"
        },
        "id": "58bisWYJ7GMC",
        "outputId": "33ccc328-dfe3-4fed-e3c3-f78368f2bab1"
      },
      "execution_count": null,
      "outputs": [
        {
          "output_type": "stream",
          "name": "stdout",
          "text": [
            "✅ Step 1: Setting up configuration...\n",
            "Drive already mounted at /content/drive; to attempt to forcibly remount, call drive.mount(\"/content/drive\", force_remount=True).\n",
            "Extracting dataset from /content/drive/MyDrive/dataset ML/CUB_200_2011.tgz...\n"
          ]
        },
        {
          "output_type": "stream",
          "name": "stderr",
          "text": [
            "/tmp/ipython-input-2366351359.py:29: DeprecationWarning: Python 3.14 will, by default, filter extracted tar archives and reject files or modify their metadata. Use the filter argument to control this behavior.\n",
            "  tar_ref.extractall(path='/content')\n"
          ]
        },
        {
          "output_type": "stream",
          "name": "stdout",
          "text": [
            "Dataset extracted. Main directory set to: /content/CUB_200_2011/\n",
            "Using device: cuda\n"
          ]
        }
      ]
    },
    {
      "cell_type": "code",
      "source": [
        "# ==================================\n",
        "# 2. DATA PREPARATION\n",
        "# ==================================\n",
        "print(\"\\n✅ Step 2: Preparing data using official dataset files...\")\n",
        "\n",
        "# Load metadata from the text files\n",
        "images_df = pd.read_csv(os.path.join(CUB_DIR, 'images.txt'), sep=' ', names=['img_id', 'filepath'])\n",
        "labels_df = pd.read_csv(os.path.join(CUB_DIR, 'image_class_labels.txt'), sep=' ', names=['img_id', 'class_id'])\n",
        "split_df = pd.read_csv(os.path.join(CUB_DIR, 'train_test_split.txt'), sep=' ', names=['img_id', 'is_training_img'])\n",
        "\n",
        "# Merge dataframes\n",
        "data_df = images_df.merge(labels_df, on='img_id').merge(split_df, on='img_id')\n",
        "data_df['class_id'] = data_df['class_id'] - 1 # Adjust class_id to be 0-indexed\n",
        "\n",
        "# Separate into training and testing sets\n",
        "train_df = data_df[data_df['is_training_img'] == 1]\n",
        "test_df = data_df[data_df['is_training_img'] == 0]\n",
        "\n",
        "X_train_paths = [os.path.join(IMAGE_DIR, fp) for fp in train_df['filepath']]\n",
        "X_test_paths = [os.path.join(IMAGE_DIR, fp) for fp in test_df['filepath']]\n",
        "y_train = train_df['class_id'].values\n",
        "y_test = test_df['class_id'].values\n",
        "\n",
        "num_classes = len(data_df['class_id'].unique())\n",
        "print(f\"Found {len(data_df)} total images belonging to {num_classes} classes.\")\n",
        "print(f\"Using official split: {len(X_train_paths)} training samples, {len(X_test_paths)} testing samples.\")\n",
        "\n",
        "# PyTorch Custom Dataset\n",
        "class BirdDataset(Dataset):\n",
        "    def __init__(self, image_paths, labels, transform=None):\n",
        "        self.image_paths = image_paths\n",
        "        self.labels = labels\n",
        "        self.transform = transform\n",
        "\n",
        "    def __len__(self):\n",
        "        return len(self.image_paths)\n",
        "\n",
        "    def __getitem__(self, idx):\n",
        "        img_path = self.image_paths[idx]\n",
        "        image = Image.open(img_path).convert(\"RGB\")\n",
        "        label = self.labels[idx]\n",
        "        if self.transform:\n",
        "            image = self.transform(image)\n",
        "        return image, label\n",
        "\n",
        "# Data augmentation and normalization\n",
        "data_transforms = {\n",
        "    'train': transforms.Compose([\n",
        "        transforms.RandomResizedCrop(IMG_SIZE),\n",
        "        transforms.RandomHorizontalFlip(),\n",
        "        transforms.ToTensor(),\n",
        "        transforms.Normalize([0.485, 0.456, 0.406], [0.229, 0.224, 0.225])\n",
        "    ]),\n",
        "    'test': transforms.Compose([\n",
        "        transforms.Resize(256),\n",
        "        transforms.CenterCrop(IMG_SIZE),\n",
        "        transforms.ToTensor(),\n",
        "        transforms.Normalize([0.485, 0.456, 0.406], [0.229, 0.224, 0.225])\n",
        "    ]),\n",
        "}\n",
        "\n"
      ],
      "metadata": {
        "id": "E_IIHndL7Je8",
        "colab": {
          "base_uri": "https://localhost:8080/"
        },
        "outputId": "8fe4ebbe-a2aa-4e25-8874-71b350047bff"
      },
      "execution_count": null,
      "outputs": [
        {
          "output_type": "stream",
          "name": "stdout",
          "text": [
            "\n",
            "✅ Step 2: Preparing data using official dataset files...\n",
            "Found 11788 total images belonging to 200 classes.\n",
            "Using official split: 5994 training samples, 5794 testing samples.\n"
          ]
        }
      ]
    },
    {
      "cell_type": "code",
      "source": [
        "# ========================================================\n",
        "# 3. FEATURE EXTRACTION FOR CLASSICAL MODELS\n",
        "# ========================================================\n",
        "print(\"\\n✅ Step 3: Extracting features using a pre-trained CNN...\")\n",
        "\n",
        "feature_extractor = models.resnet50(weights=models.ResNet50_Weights.IMAGENET1K_V1)\n",
        "feature_extractor.fc = nn.Identity()\n",
        "feature_extractor = feature_extractor.to(DEVICE)\n",
        "feature_extractor.eval()\n",
        "\n",
        "def extract_features(dataset_paths, transform):\n",
        "    dataset = BirdDataset(dataset_paths, labels=np.zeros(len(dataset_paths)), transform=transform)\n",
        "    loader = DataLoader(dataset, batch_size=BATCH_SIZE, shuffle=False)\n",
        "    all_features = []\n",
        "    with torch.no_grad():\n",
        "        for inputs, _ in tqdm(loader, desc=\"Extracting Features\"):\n",
        "            inputs = inputs.to(DEVICE)\n",
        "            features = feature_extractor(inputs)\n",
        "            all_features.append(features.cpu().numpy())\n",
        "    return np.concatenate(all_features)\n",
        "\n",
        "X_train_features = extract_features(X_train_paths, data_transforms['test'])\n",
        "X_test_features = extract_features(X_test_paths, data_transforms['test'])\n",
        "\n",
        "print(f\"Shape of training features: {X_train_features.shape}\")\n",
        "print(f\"Shape of testing features: {X_test_features.shape}\")"
      ],
      "metadata": {
        "id": "jrYFMy_U7MaI",
        "colab": {
          "base_uri": "https://localhost:8080/"
        },
        "outputId": "c9077a76-d50e-47c2-a4a8-4049ec4c8236"
      },
      "execution_count": null,
      "outputs": [
        {
          "output_type": "stream",
          "name": "stdout",
          "text": [
            "\n",
            "✅ Step 3: Extracting features using a pre-trained CNN...\n",
            "Downloading: \"https://download.pytorch.org/models/resnet50-0676ba61.pth\" to /root/.cache/torch/hub/checkpoints/resnet50-0676ba61.pth\n"
          ]
        },
        {
          "output_type": "stream",
          "name": "stderr",
          "text": [
            "100%|██████████| 97.8M/97.8M [00:00<00:00, 161MB/s]\n",
            "Extracting Features: 100%|██████████| 188/188 [00:54<00:00,  3.47it/s]\n",
            "Extracting Features: 100%|██████████| 182/182 [00:49<00:00,  3.70it/s]"
          ]
        },
        {
          "output_type": "stream",
          "name": "stdout",
          "text": [
            "Shape of training features: (5994, 2048)\n",
            "Shape of testing features: (5794, 2048)\n"
          ]
        },
        {
          "output_type": "stream",
          "name": "stderr",
          "text": [
            "\n"
          ]
        }
      ]
    },
    {
      "cell_type": "code",
      "source": [
        "# ========================================================\n",
        "# 4. TRAINING THE 7 CLASSICAL MODELS FROM THE PAPER\n",
        "# ========================================================\n",
        "print(\"\\n✅ Step 4: Training the 7 classical ML models from the paper...\")\n",
        "\n",
        "models_to_train = {\n",
        "    \"1. Naive Bayes\": GaussianNB(),\n",
        "    \"2. K-Nearest Neighbors (KNN)\": KNeighborsClassifier(n_neighbors=5),\n",
        "    \"3. Decision Tree\": DecisionTreeClassifier(random_state=RANDOM_STATE),\n",
        "    \"4. Random Forest\": RandomForestClassifier(n_estimators=100, random_state=RANDOM_STATE),\n",
        "    \"5. Linear Discriminant Analysis (LDA)\": LinearDiscriminantAnalysis(),\n",
        "    \"6. Support Vector Machine (SVM)\": SVC(kernel='rbf', random_state=RANDOM_STATE),\n",
        "    \"7. Logistic Regression (One-vs-Rest)\": LogisticRegression(multi_class='ovr', solver='liblinear', random_state=RANDOM_STATE, max_iter=1000)\n",
        "}\n",
        "results = {}\n",
        "\n",
        "for name, model in models_to_train.items():\n",
        "    print(f\"--- Training {name} ---\")\n",
        "    model.fit(X_train_features, y_train)\n",
        "    y_pred = model.predict(X_test_features)\n",
        "    accuracy = accuracy_score(y_test, y_pred)\n",
        "    results[name] = accuracy\n",
        "    print(f\"Testing Accuracy for {name}: {accuracy:.4f}\")\n",
        "\n"
      ],
      "metadata": {
        "id": "49NKyl8s7OY1",
        "colab": {
          "base_uri": "https://localhost:8080/"
        },
        "outputId": "df50b4b2-28e0-4e8d-c7cd-6850b2db6ebc"
      },
      "execution_count": null,
      "outputs": [
        {
          "output_type": "stream",
          "name": "stdout",
          "text": [
            "\n",
            "✅ Step 4: Training the 7 classical ML models from the paper...\n",
            "--- Training 1. Naive Bayes ---\n",
            "Testing Accuracy for 1. Naive Bayes: 0.6151\n",
            "--- Training 2. K-Nearest Neighbors (KNN) ---\n",
            "Testing Accuracy for 2. K-Nearest Neighbors (KNN): 0.4922\n",
            "--- Training 3. Decision Tree ---\n",
            "Testing Accuracy for 3. Decision Tree: 0.1961\n",
            "--- Training 4. Random Forest ---\n",
            "Testing Accuracy for 4. Random Forest: 0.5204\n",
            "--- Training 5. Linear Discriminant Analysis (LDA) ---\n",
            "Testing Accuracy for 5. Linear Discriminant Analysis (LDA): 0.6969\n",
            "--- Training 6. Support Vector Machine (SVM) ---\n",
            "Testing Accuracy for 6. Support Vector Machine (SVM): 0.6628\n",
            "--- Training 7. Logistic Regression (One-vs-Rest) ---\n"
          ]
        },
        {
          "output_type": "stream",
          "name": "stderr",
          "text": [
            "/usr/local/lib/python3.12/dist-packages/sklearn/linear_model/_logistic.py:1256: FutureWarning: 'multi_class' was deprecated in version 1.5 and will be removed in 1.7. Use OneVsRestClassifier(LogisticRegression(..)) instead. Leave it to its default value to avoid this warning.\n",
            "  warnings.warn(\n"
          ]
        },
        {
          "output_type": "stream",
          "name": "stdout",
          "text": [
            "Testing Accuracy for 7. Logistic Regression (One-vs-Rest): 0.6631\n"
          ]
        }
      ]
    },
    {
      "cell_type": "code",
      "source": [
        "# ========================================================\n",
        "# 5. BONUS: TRAINING A MODERN CONVOLUTIONAL NEURAL NETWORK\n",
        "# ========================================================\n",
        "print(\"\\n✅ Step 5: Training a modern CNN for potentially better results...\")\n",
        "\n",
        "train_dataset = BirdDataset(X_train_paths, y_train, transform=data_transforms['train'])\n",
        "test_dataset = BirdDataset(X_test_paths, y_test, transform=data_transforms['test'])\n",
        "train_loader = DataLoader(train_dataset, batch_size=BATCH_SIZE, shuffle=True)\n",
        "test_loader = DataLoader(test_dataset, batch_size=BATCH_SIZE, shuffle=False)\n",
        "\n",
        "cnn_model = models.resnet50(weights=models.ResNet50_Weights.IMAGENET1K_V1)\n",
        "cnn_model.fc = nn.Linear(cnn_model.fc.in_features, num_classes)\n",
        "cnn_model = cnn_model.to(DEVICE)\n",
        "\n",
        "criterion = nn.CrossEntropyLoss()\n",
        "optimizer = optim.Adam(cnn_model.parameters(), lr=0.001)\n",
        "\n",
        "for epoch in range(NUM_EPOCHS_CNN):\n",
        "    cnn_model.train()\n",
        "    running_loss = 0.0\n",
        "    for inputs, labels_batch in tqdm(train_loader, desc=f\"Epoch {epoch+1}/{NUM_EPOCHS_CNN}\"):\n",
        "        inputs, labels_batch = inputs.to(DEVICE), labels_batch.to(DEVICE)\n",
        "        optimizer.zero_grad()\n",
        "        outputs = cnn_model(inputs)\n",
        "        loss = criterion(outputs, labels_batch)\n",
        "        loss.backward()\n",
        "        optimizer.step()\n",
        "        running_loss += loss.item() * inputs.size(0)\n",
        "    epoch_loss = running_loss / len(train_loader.dataset)\n",
        "    print(f\"Epoch {epoch+1} Loss: {epoch_loss:.4f}\")\n",
        "\n",
        "print(\"Evaluating the CNN model...\")\n",
        "cnn_model.eval()\n",
        "all_preds, all_labels = [], []\n",
        "with torch.no_grad():\n",
        "    for inputs, labels_batch in tqdm(test_loader, desc=\"Evaluating CNN\"):\n",
        "        inputs, labels_batch = inputs.to(DEVICE), labels_batch.to(DEVICE)\n",
        "        outputs = cnn_model(inputs)\n",
        "        _, preds = torch.max(outputs, 1)\n",
        "        all_preds.extend(preds.cpu().numpy())\n",
        "        all_labels.extend(labels_batch.cpu().numpy())\n",
        "\n",
        "cnn_accuracy = accuracy_score(all_labels, all_preds)\n",
        "results[\"8. Fine-tuned CNN (ResNet50)\"] = cnn_accuracy\n",
        "print(f\"Testing Accuracy for CNN: {cnn_accuracy:.4f}\")"
      ],
      "metadata": {
        "id": "NQXtubVr7PwO",
        "colab": {
          "base_uri": "https://localhost:8080/"
        },
        "outputId": "6f3c5b28-763b-4416-a3e8-0ca1f15844e3"
      },
      "execution_count": null,
      "outputs": [
        {
          "output_type": "stream",
          "name": "stdout",
          "text": [
            "\n",
            "✅ Step 5: Training a modern CNN for potentially better results...\n"
          ]
        },
        {
          "output_type": "stream",
          "name": "stderr",
          "text": [
            "Epoch 1/10: 100%|██████████| 188/188 [01:27<00:00,  2.16it/s]\n"
          ]
        },
        {
          "output_type": "stream",
          "name": "stdout",
          "text": [
            "Epoch 1 Loss: 5.3975\n"
          ]
        },
        {
          "output_type": "stream",
          "name": "stderr",
          "text": [
            "Epoch 2/10: 100%|██████████| 188/188 [01:26<00:00,  2.17it/s]\n"
          ]
        },
        {
          "output_type": "stream",
          "name": "stdout",
          "text": [
            "Epoch 2 Loss: 5.2229\n"
          ]
        },
        {
          "output_type": "stream",
          "name": "stderr",
          "text": [
            "Epoch 3/10: 100%|██████████| 188/188 [01:25<00:00,  2.19it/s]\n"
          ]
        },
        {
          "output_type": "stream",
          "name": "stdout",
          "text": [
            "Epoch 3 Loss: 5.0296\n"
          ]
        },
        {
          "output_type": "stream",
          "name": "stderr",
          "text": [
            "Epoch 4/10: 100%|██████████| 188/188 [01:25<00:00,  2.19it/s]\n"
          ]
        },
        {
          "output_type": "stream",
          "name": "stdout",
          "text": [
            "Epoch 4 Loss: 4.8536\n"
          ]
        },
        {
          "output_type": "stream",
          "name": "stderr",
          "text": [
            "Epoch 5/10: 100%|██████████| 188/188 [01:26<00:00,  2.18it/s]\n"
          ]
        },
        {
          "output_type": "stream",
          "name": "stdout",
          "text": [
            "Epoch 5 Loss: 4.6724\n"
          ]
        },
        {
          "output_type": "stream",
          "name": "stderr",
          "text": [
            "Epoch 6/10: 100%|██████████| 188/188 [01:29<00:00,  2.10it/s]\n"
          ]
        },
        {
          "output_type": "stream",
          "name": "stdout",
          "text": [
            "Epoch 6 Loss: 4.4957\n"
          ]
        },
        {
          "output_type": "stream",
          "name": "stderr",
          "text": [
            "Epoch 7/10: 100%|██████████| 188/188 [01:25<00:00,  2.20it/s]\n"
          ]
        },
        {
          "output_type": "stream",
          "name": "stdout",
          "text": [
            "Epoch 7 Loss: 4.3175\n"
          ]
        },
        {
          "output_type": "stream",
          "name": "stderr",
          "text": [
            "Epoch 8/10: 100%|██████████| 188/188 [01:26<00:00,  2.18it/s]\n"
          ]
        },
        {
          "output_type": "stream",
          "name": "stdout",
          "text": [
            "Epoch 8 Loss: 4.2220\n"
          ]
        },
        {
          "output_type": "stream",
          "name": "stderr",
          "text": [
            "Epoch 9/10: 100%|██████████| 188/188 [01:25<00:00,  2.19it/s]\n"
          ]
        },
        {
          "output_type": "stream",
          "name": "stdout",
          "text": [
            "Epoch 9 Loss: 4.0868\n"
          ]
        },
        {
          "output_type": "stream",
          "name": "stderr",
          "text": [
            "Epoch 10/10: 100%|██████████| 188/188 [01:26<00:00,  2.18it/s]\n"
          ]
        },
        {
          "output_type": "stream",
          "name": "stdout",
          "text": [
            "Epoch 10 Loss: 3.9277\n",
            "Evaluating the CNN model...\n"
          ]
        },
        {
          "output_type": "stream",
          "name": "stderr",
          "text": [
            "Evaluating CNN: 100%|██████████| 182/182 [00:48<00:00,  3.78it/s]"
          ]
        },
        {
          "output_type": "stream",
          "name": "stdout",
          "text": [
            "Testing Accuracy for CNN: 0.1329\n"
          ]
        },
        {
          "output_type": "stream",
          "name": "stderr",
          "text": [
            "\n"
          ]
        }
      ]
    },
    {
      "cell_type": "code",
      "source": [
        "# ========================================================\n",
        "# 6. FINAL RESULTS\n",
        "# ========================================================\n",
        "print(\"\\n\\n====================================\")\n",
        "print(\"      FINAL MODEL ACCURACIES      \")\n",
        "print(\"====================================\\n\")\n",
        "\n",
        "results_df = pd.DataFrame(list(results.items()), columns=['Model', 'Testing Accuracy'])\n",
        "results_df = results_df.sort_values(by='Testing Accuracy', ascending=False)\n",
        "print(results_df.to_string(index=False))\n",
        "\n",
        "plt.figure(figsize=(12, 8))\n",
        "bars = plt.barh(results_df['Model'], results_df['Testing Accuracy'], color='darkcyan')\n",
        "plt.xlabel('Testing Accuracy')\n",
        "plt.title('Comparison of Model Performance on CUB-200-2011')\n",
        "plt.xlim(0, 1)\n",
        "plt.gca().invert_yaxis()\n",
        "for bar in bars:\n",
        "    plt.text(bar.get_width(), bar.get_y() + bar.get_height()/2,\n",
        "             f' {bar.get_width():.2%}', va='center', ha='left')\n",
        "plt.tight_layout()\n",
        "plt.show()"
      ],
      "metadata": {
        "id": "Yxp18rNQ7RNA",
        "colab": {
          "base_uri": "https://localhost:8080/",
          "height": 1000
        },
        "outputId": "c7a3652b-0c71-4d10-9ad1-9b64461d77c2"
      },
      "execution_count": null,
      "outputs": [
        {
          "output_type": "stream",
          "name": "stdout",
          "text": [
            "\n",
            "\n",
            "====================================\n",
            "      FINAL MODEL ACCURACIES      \n",
            "====================================\n",
            "\n",
            "                                Model  Testing Accuracy\n",
            "5. Linear Discriminant Analysis (LDA)          0.696928\n",
            " 7. Logistic Regression (One-vs-Rest)          0.663100\n",
            "      6. Support Vector Machine (SVM)          0.662755\n",
            "                       1. Naive Bayes          0.615119\n",
            "                     4. Random Forest          0.520366\n",
            "         2. K-Nearest Neighbors (KNN)          0.492233\n",
            "                     3. Decision Tree          0.196065\n",
            "         8. Fine-tuned CNN (ResNet50)          0.132896\n"
          ]
        },
        {
          "output_type": "display_data",
          "data": {
            "text/plain": [
              "<Figure size 1200x800 with 1 Axes>"
            ],
            "image/png": "[encoded data removed]"
          },
          "metadata": {}
        }
      ]
    }
  ]
}